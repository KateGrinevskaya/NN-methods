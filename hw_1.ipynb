{
 "cells": [
  {
   "cell_type": "code",
   "execution_count": 188,
   "metadata": {},
   "outputs": [
    {
     "name": "stderr",
     "output_type": "stream",
     "text": [
      "[nltk_data] Downloading package stopwords to\n",
      "[nltk_data]     C:\\Users\\user\\AppData\\Roaming\\nltk_data...\n",
      "[nltk_data]   Package stopwords is already up-to-date!\n"
     ]
    }
   ],
   "source": [
    "import pandas as pd\n",
    "import numpy as np\n",
    "import matplotlib.pyplot as plt\n",
    "import seaborn as sns\n",
    "from sklearn.feature_extraction.text import CountVectorizer, TfidfVectorizer\n",
    "from sklearn.linear_model import LogisticRegression\n",
    "from sklearn.tree import DecisionTreeClassifier\n",
    "from sklearn.neighbors import KNeighborsClassifier\n",
    "from sklearn.naive_bayes import MultinomialNB\n",
    "from sklearn.model_selection import train_test_split\n",
    "from sklearn.metrics import classification_report, accuracy_score\n",
    "from sklearn.metrics.pairwise import cosine_distances, cosine_similarity\n",
    "import re\n",
    "import nltk\n",
    "import sklearn\n",
    "from nltk.tokenize import word_tokenize\n",
    "from nltk.corpus import stopwords\n",
    "nltk.download(\"stopwords\")\n",
    "from string import punctuation\n",
    "stopwords = set(stopwords.words('english'))\n",
    "from sklearn.linear_model import LinearRegression, Ridge, Lasso, ElasticNet\n",
    "from sklearn.svm import LinearSVR\n",
    "from sklearn.model_selection import train_test_split, GridSearchCV, KFold\n",
    "from sklearn.metrics import mean_squared_error\n",
    "from sklearn.metrics import mean_absolute_error\n",
    "from sklearn.metrics import r2_score\n",
    "from sklearn.metrics import accuracy_score, f1_score, precision_score, recall_score\n",
    "from sklearn.metrics import confusion_matrix\n",
    "import collections\n",
    "from collections import Counter"
   ]
  },
  {
   "cell_type": "markdown",
   "metadata": {},
   "source": [
    "## Задание 1."
   ]
  },
  {
   "cell_type": "markdown",
   "metadata": {},
   "source": [
    "### Смотрим на данные"
   ]
  },
  {
   "cell_type": "markdown",
   "metadata": {},
   "source": [
    "Считываем данные"
   ]
  },
  {
   "cell_type": "code",
   "execution_count": 32,
   "metadata": {},
   "outputs": [
    {
     "data": {
      "text/html": [
       "<div>\n",
       "<style scoped>\n",
       "    .dataframe tbody tr th:only-of-type {\n",
       "        vertical-align: middle;\n",
       "    }\n",
       "\n",
       "    .dataframe tbody tr th {\n",
       "        vertical-align: top;\n",
       "    }\n",
       "\n",
       "    .dataframe thead th {\n",
       "        text-align: right;\n",
       "    }\n",
       "</style>\n",
       "<table border=\"1\" class=\"dataframe\">\n",
       "  <thead>\n",
       "    <tr style=\"text-align: right;\">\n",
       "      <th></th>\n",
       "      <th>title</th>\n",
       "      <th>price</th>\n",
       "      <th>rating</th>\n",
       "      <th>total_reviews</th>\n",
       "      <th>product_description</th>\n",
       "      <th>reviews</th>\n",
       "      <th>reviews_rating</th>\n",
       "      <th>Shoe Type</th>\n",
       "    </tr>\n",
       "  </thead>\n",
       "  <tbody>\n",
       "    <tr>\n",
       "      <th>0</th>\n",
       "      <td>CLYMB Outdoor Sports Running Shoes for Mens Boy</td>\n",
       "      <td>₹279.00</td>\n",
       "      <td>2.9 out of 5 stars</td>\n",
       "      <td>2389 ratings</td>\n",
       "      <td>Elevate your style with this classy pair of Ru...</td>\n",
       "      <td>Not happy with product|| It's not as expected....</td>\n",
       "      <td>1.0 out of 5 stars|| 1.0 out of 5 stars|| 3.0 ...</td>\n",
       "      <td>Men</td>\n",
       "    </tr>\n",
       "    <tr>\n",
       "      <th>1</th>\n",
       "      <td>Bourge Men's Loire-z126 Running Shoes</td>\n",
       "      <td>₹479.00</td>\n",
       "      <td>3.9 out of 5 stars</td>\n",
       "      <td>11520 ratings</td>\n",
       "      <td>The product will be an excellent pick for you....</td>\n",
       "      <td>Memory cushioning in these shoes is the best f...</td>\n",
       "      <td>5.0 out of 5 stars|| 1.0 out of 5 stars|| 5.0 ...</td>\n",
       "      <td>Men</td>\n",
       "    </tr>\n",
       "    <tr>\n",
       "      <th>2</th>\n",
       "      <td>T-Rock Men's Sneaker</td>\n",
       "      <td>₹430.00</td>\n",
       "      <td>3.3 out of 5 stars</td>\n",
       "      <td>1251 ratings</td>\n",
       "      <td>Flaunt with these stylish and unique red casua...</td>\n",
       "      <td>Worth to its amount|| Go for it|| Perfect|| 5 ...</td>\n",
       "      <td>5.0 out of 5 stars|| 5.0 out of 5 stars|| 5.0 ...</td>\n",
       "      <td>Men</td>\n",
       "    </tr>\n",
       "    <tr>\n",
       "      <th>3</th>\n",
       "      <td>Robbie jones Sneakers Casual Canvas Fabric Col...</td>\n",
       "      <td>₹499.00</td>\n",
       "      <td>4.2 out of 5 stars</td>\n",
       "      <td>3 ratings</td>\n",
       "      <td>Robbie Jones Shoes Are Designed To Keeping In ...</td>\n",
       "      <td>Sup quality|| Good but not expected|| Awesome 👌.!</td>\n",
       "      <td>5.0 out of 5 stars|| 3.0 out of 5 stars|| 5.0 ...</td>\n",
       "      <td>Men</td>\n",
       "    </tr>\n",
       "    <tr>\n",
       "      <th>4</th>\n",
       "      <td>Sparx Men's Sd0323g Sneakers</td>\n",
       "      <td>₹499.00</td>\n",
       "      <td>4.2 out of 5 stars</td>\n",
       "      <td>20110 ratings</td>\n",
       "      <td>Sparx is a spectacular range of footwear from ...</td>\n",
       "      <td>Best|| Satisfied!|| Affordable beauty 😘😘😘😘 the...</td>\n",
       "      <td>5.0 out of 5 stars|| 5.0 out of 5 stars|| 5.0 ...</td>\n",
       "      <td>Men</td>\n",
       "    </tr>\n",
       "  </tbody>\n",
       "</table>\n",
       "</div>"
      ],
      "text/plain": [
       "                                               title    price  \\\n",
       "0    CLYMB Outdoor Sports Running Shoes for Mens Boy  ₹279.00   \n",
       "1              Bourge Men's Loire-z126 Running Shoes  ₹479.00   \n",
       "2                               T-Rock Men's Sneaker  ₹430.00   \n",
       "3  Robbie jones Sneakers Casual Canvas Fabric Col...  ₹499.00   \n",
       "4                       Sparx Men's Sd0323g Sneakers  ₹499.00   \n",
       "\n",
       "               rating  total_reviews  \\\n",
       "0  2.9 out of 5 stars   2389 ratings   \n",
       "1  3.9 out of 5 stars  11520 ratings   \n",
       "2  3.3 out of 5 stars   1251 ratings   \n",
       "3  4.2 out of 5 stars      3 ratings   \n",
       "4  4.2 out of 5 stars  20110 ratings   \n",
       "\n",
       "                                 product_description  \\\n",
       "0  Elevate your style with this classy pair of Ru...   \n",
       "1  The product will be an excellent pick for you....   \n",
       "2  Flaunt with these stylish and unique red casua...   \n",
       "3  Robbie Jones Shoes Are Designed To Keeping In ...   \n",
       "4  Sparx is a spectacular range of footwear from ...   \n",
       "\n",
       "                                             reviews  \\\n",
       "0  Not happy with product|| It's not as expected....   \n",
       "1  Memory cushioning in these shoes is the best f...   \n",
       "2  Worth to its amount|| Go for it|| Perfect|| 5 ...   \n",
       "3  Sup quality|| Good but not expected|| Awesome 👌.!   \n",
       "4  Best|| Satisfied!|| Affordable beauty 😘😘😘😘 the...   \n",
       "\n",
       "                                      reviews_rating Shoe Type  \n",
       "0  1.0 out of 5 stars|| 1.0 out of 5 stars|| 3.0 ...       Men  \n",
       "1  5.0 out of 5 stars|| 1.0 out of 5 stars|| 5.0 ...       Men  \n",
       "2  5.0 out of 5 stars|| 5.0 out of 5 stars|| 5.0 ...       Men  \n",
       "3  5.0 out of 5 stars|| 3.0 out of 5 stars|| 5.0 ...       Men  \n",
       "4  5.0 out of 5 stars|| 5.0 out of 5 stars|| 5.0 ...       Men  "
      ]
     },
     "execution_count": 32,
     "metadata": {},
     "output_type": "execute_result"
    }
   ],
   "source": [
    "df = pd.read_csv('Shoes_Data.csv')\n",
    "df.head()"
   ]
  },
  {
   "cell_type": "markdown",
   "metadata": {},
   "source": [
    "Оставляем только колонки с ценой и описанием"
   ]
  },
  {
   "cell_type": "code",
   "execution_count": 33,
   "metadata": {},
   "outputs": [],
   "source": [
    "df = df.drop(['title', 'rating', 'total_reviews', 'reviews', 'reviews_rating', 'Shoe Type'], axis='columns')"
   ]
  },
  {
   "cell_type": "code",
   "execution_count": 34,
   "metadata": {},
   "outputs": [
    {
     "data": {
      "text/html": [
       "<div>\n",
       "<style scoped>\n",
       "    .dataframe tbody tr th:only-of-type {\n",
       "        vertical-align: middle;\n",
       "    }\n",
       "\n",
       "    .dataframe tbody tr th {\n",
       "        vertical-align: top;\n",
       "    }\n",
       "\n",
       "    .dataframe thead th {\n",
       "        text-align: right;\n",
       "    }\n",
       "</style>\n",
       "<table border=\"1\" class=\"dataframe\">\n",
       "  <thead>\n",
       "    <tr style=\"text-align: right;\">\n",
       "      <th></th>\n",
       "      <th>price</th>\n",
       "      <th>product_description</th>\n",
       "    </tr>\n",
       "  </thead>\n",
       "  <tbody>\n",
       "    <tr>\n",
       "      <th>0</th>\n",
       "      <td>₹279.00</td>\n",
       "      <td>Elevate your style with this classy pair of Ru...</td>\n",
       "    </tr>\n",
       "    <tr>\n",
       "      <th>1</th>\n",
       "      <td>₹479.00</td>\n",
       "      <td>The product will be an excellent pick for you....</td>\n",
       "    </tr>\n",
       "    <tr>\n",
       "      <th>2</th>\n",
       "      <td>₹430.00</td>\n",
       "      <td>Flaunt with these stylish and unique red casua...</td>\n",
       "    </tr>\n",
       "    <tr>\n",
       "      <th>3</th>\n",
       "      <td>₹499.00</td>\n",
       "      <td>Robbie Jones Shoes Are Designed To Keeping In ...</td>\n",
       "    </tr>\n",
       "    <tr>\n",
       "      <th>4</th>\n",
       "      <td>₹499.00</td>\n",
       "      <td>Sparx is a spectacular range of footwear from ...</td>\n",
       "    </tr>\n",
       "  </tbody>\n",
       "</table>\n",
       "</div>"
      ],
      "text/plain": [
       "     price                                product_description\n",
       "0  ₹279.00  Elevate your style with this classy pair of Ru...\n",
       "1  ₹479.00  The product will be an excellent pick for you....\n",
       "2  ₹430.00  Flaunt with these stylish and unique red casua...\n",
       "3  ₹499.00  Robbie Jones Shoes Are Designed To Keeping In ...\n",
       "4  ₹499.00  Sparx is a spectacular range of footwear from ..."
      ]
     },
     "execution_count": 34,
     "metadata": {},
     "output_type": "execute_result"
    }
   ],
   "source": [
    "df.head()"
   ]
  },
  {
   "cell_type": "markdown",
   "metadata": {},
   "source": [
    "Убираем из цены обозначение валюты, переводим цену из строки в число, считаем лдину строки"
   ]
  },
  {
   "cell_type": "code",
   "execution_count": 35,
   "metadata": {},
   "outputs": [
    {
     "data": {
      "text/html": [
       "<div>\n",
       "<style scoped>\n",
       "    .dataframe tbody tr th:only-of-type {\n",
       "        vertical-align: middle;\n",
       "    }\n",
       "\n",
       "    .dataframe tbody tr th {\n",
       "        vertical-align: top;\n",
       "    }\n",
       "\n",
       "    .dataframe thead th {\n",
       "        text-align: right;\n",
       "    }\n",
       "</style>\n",
       "<table border=\"1\" class=\"dataframe\">\n",
       "  <thead>\n",
       "    <tr style=\"text-align: right;\">\n",
       "      <th></th>\n",
       "      <th>price</th>\n",
       "      <th>product_description</th>\n",
       "      <th>len_description</th>\n",
       "    </tr>\n",
       "  </thead>\n",
       "  <tbody>\n",
       "    <tr>\n",
       "      <th>0</th>\n",
       "      <td>279.0</td>\n",
       "      <td>Elevate your style with this classy pair of Ru...</td>\n",
       "      <td>222</td>\n",
       "    </tr>\n",
       "    <tr>\n",
       "      <th>1</th>\n",
       "      <td>479.0</td>\n",
       "      <td>The product will be an excellent pick for you....</td>\n",
       "      <td>78</td>\n",
       "    </tr>\n",
       "    <tr>\n",
       "      <th>2</th>\n",
       "      <td>430.0</td>\n",
       "      <td>Flaunt with these stylish and unique red casua...</td>\n",
       "      <td>398</td>\n",
       "    </tr>\n",
       "    <tr>\n",
       "      <th>3</th>\n",
       "      <td>499.0</td>\n",
       "      <td>Robbie Jones Shoes Are Designed To Keeping In ...</td>\n",
       "      <td>576</td>\n",
       "    </tr>\n",
       "    <tr>\n",
       "      <th>4</th>\n",
       "      <td>499.0</td>\n",
       "      <td>Sparx is a spectacular range of footwear from ...</td>\n",
       "      <td>1030</td>\n",
       "    </tr>\n",
       "  </tbody>\n",
       "</table>\n",
       "</div>"
      ],
      "text/plain": [
       "   price                                product_description  len_description\n",
       "0  279.0  Elevate your style with this classy pair of Ru...              222\n",
       "1  479.0  The product will be an excellent pick for you....               78\n",
       "2  430.0  Flaunt with these stylish and unique red casua...              398\n",
       "3  499.0  Robbie Jones Shoes Are Designed To Keeping In ...              576\n",
       "4  499.0  Sparx is a spectacular range of footwear from ...             1030"
      ]
     },
     "execution_count": 35,
     "metadata": {},
     "output_type": "execute_result"
    }
   ],
   "source": [
    "df['price']=df['price'].apply(lambda x: str(x).replace('₹','') if '₹' in str(x) else str(x))\n",
    "df['price']=df['price'].astype(float)\n",
    "df['len_description'] = df['product_description'].apply(len)\n",
    "df.head()"
   ]
  },
  {
   "cell_type": "markdown",
   "metadata": {},
   "source": [
    "Строим график зависимости цены от длины описания"
   ]
  },
  {
   "cell_type": "code",
   "execution_count": 36,
   "metadata": {},
   "outputs": [
    {
     "data": {
      "image/png": "[encoded data removed]",
      "text/plain": [
       "<Figure size 864x864 with 1 Axes>"
      ]
     },
     "metadata": {
      "needs_background": "light"
     },
     "output_type": "display_data"
    }
   ],
   "source": [
    "plt.figure(figsize=(12, 12))\n",
    "plt.tick_params(labelsize=10)\n",
    "ax=sns.scatterplot(x=df['len_description'],y=df['price'],data=df)"
   ]
  },
  {
   "cell_type": "markdown",
   "metadata": {},
   "source": [
    "Никакой зависимости нет. Создала список брендов, которые знаю. Может, цена будет зависеть от бренда обуви (или от её типа/предназначения). В таком случае надо сделать стемминг, чтобы *classy* не отличалось от *classical*, а *cool Puma's slippers* от *cool sleppers from Puma*."
   ]
  },
  {
   "cell_type": "markdown",
   "metadata": {},
   "source": [
    "### Препроцессинг"
   ]
  },
  {
   "cell_type": "markdown",
   "metadata": {},
   "source": [
    "Токенизация, очистка от стоп-слов, стемминг"
   ]
  },
  {
   "cell_type": "code",
   "execution_count": 46,
   "metadata": {},
   "outputs": [],
   "source": [
    "from nltk.stem import *\n",
    "from nltk.stem.snowball import SnowballStemmer\n",
    "stemmer = SnowballStemmer(\"english\")"
   ]
  },
  {
   "cell_type": "code",
   "execution_count": 47,
   "metadata": {},
   "outputs": [],
   "source": [
    "def preproc(s):\n",
    "    tokens = word_tokenize(s.lower())\n",
    "    clean_text = ' '.join([stemmer.stem(token) for token in tokens if token.isalpha()\\\n",
    "                          and token not in stopwords])\n",
    "    return clean_text"
   ]
  },
  {
   "cell_type": "code",
   "execution_count": 48,
   "metadata": {},
   "outputs": [],
   "source": [
    "df['clean_description'] = df['product_description'].apply(preproc)"
   ]
  },
  {
   "cell_type": "markdown",
   "metadata": {},
   "source": [
    "Обновляем длину (не знаю, пригодится ли)"
   ]
  },
  {
   "cell_type": "code",
   "execution_count": 49,
   "metadata": {},
   "outputs": [],
   "source": [
    "df['len_clean_description'] = df['clean_description'].apply(len)"
   ]
  },
  {
   "cell_type": "code",
   "execution_count": 50,
   "metadata": {},
   "outputs": [
    {
     "data": {
      "text/html": [
       "<div>\n",
       "<style scoped>\n",
       "    .dataframe tbody tr th:only-of-type {\n",
       "        vertical-align: middle;\n",
       "    }\n",
       "\n",
       "    .dataframe tbody tr th {\n",
       "        vertical-align: top;\n",
       "    }\n",
       "\n",
       "    .dataframe thead th {\n",
       "        text-align: right;\n",
       "    }\n",
       "</style>\n",
       "<table border=\"1\" class=\"dataframe\">\n",
       "  <thead>\n",
       "    <tr style=\"text-align: right;\">\n",
       "      <th></th>\n",
       "      <th>price</th>\n",
       "      <th>product_description</th>\n",
       "      <th>len_description</th>\n",
       "      <th>clean_description</th>\n",
       "      <th>len_clean_description</th>\n",
       "      <th>brand</th>\n",
       "    </tr>\n",
       "  </thead>\n",
       "  <tbody>\n",
       "    <tr>\n",
       "      <th>0</th>\n",
       "      <td>279.0</td>\n",
       "      <td>Elevate your style with this classy pair of Ru...</td>\n",
       "      <td>222</td>\n",
       "      <td>elev style classi pair run shoe hous clymb bra...</td>\n",
       "      <td>140</td>\n",
       "      <td>clymb</td>\n",
       "    </tr>\n",
       "    <tr>\n",
       "      <th>1</th>\n",
       "      <td>479.0</td>\n",
       "      <td>The product will be an excellent pick for you....</td>\n",
       "      <td>78</td>\n",
       "      <td>product excel pick ensur easi mainten</td>\n",
       "      <td>37</td>\n",
       "      <td>none</td>\n",
       "    </tr>\n",
       "    <tr>\n",
       "      <th>2</th>\n",
       "      <td>430.0</td>\n",
       "      <td>Flaunt with these stylish and unique red casua...</td>\n",
       "      <td>398</td>\n",
       "      <td>flaunt stylish uniqu red casual shoe per lates...</td>\n",
       "      <td>242</td>\n",
       "      <td>none</td>\n",
       "    </tr>\n",
       "    <tr>\n",
       "      <th>3</th>\n",
       "      <td>499.0</td>\n",
       "      <td>Robbie Jones Shoes Are Designed To Keeping In ...</td>\n",
       "      <td>576</td>\n",
       "      <td>robbi jone shoe design keep mind durabl well t...</td>\n",
       "      <td>337</td>\n",
       "      <td>none</td>\n",
       "    </tr>\n",
       "    <tr>\n",
       "      <th>4</th>\n",
       "      <td>499.0</td>\n",
       "      <td>Sparx is a spectacular range of footwear from ...</td>\n",
       "      <td>1030</td>\n",
       "      <td>sparx spectacular rang footwear hous relaxo fo...</td>\n",
       "      <td>672</td>\n",
       "      <td>none</td>\n",
       "    </tr>\n",
       "  </tbody>\n",
       "</table>\n",
       "</div>"
      ],
      "text/plain": [
       "   price                                product_description  len_description  \\\n",
       "0  279.0  Elevate your style with this classy pair of Ru...              222   \n",
       "1  479.0  The product will be an excellent pick for you....               78   \n",
       "2  430.0  Flaunt with these stylish and unique red casua...              398   \n",
       "3  499.0  Robbie Jones Shoes Are Designed To Keeping In ...              576   \n",
       "4  499.0  Sparx is a spectacular range of footwear from ...             1030   \n",
       "\n",
       "                                   clean_description  len_clean_description  \\\n",
       "0  elev style classi pair run shoe hous clymb bra...                    140   \n",
       "1              product excel pick ensur easi mainten                     37   \n",
       "2  flaunt stylish uniqu red casual shoe per lates...                    242   \n",
       "3  robbi jone shoe design keep mind durabl well t...                    337   \n",
       "4  sparx spectacular rang footwear hous relaxo fo...                    672   \n",
       "\n",
       "   brand  \n",
       "0  clymb  \n",
       "1   none  \n",
       "2   none  \n",
       "3   none  \n",
       "4   none  "
      ]
     },
     "execution_count": 50,
     "metadata": {},
     "output_type": "execute_result"
    }
   ],
   "source": [
    "df.head()"
   ]
  },
  {
   "cell_type": "markdown",
   "metadata": {},
   "source": [
    "Создала списки брендов, типов обуви и прилагательных, которые знаю"
   ]
  },
  {
   "cell_type": "code",
   "execution_count": 51,
   "metadata": {},
   "outputs": [],
   "source": [
    "brands = ['nike', 'adidas', 'new balance', 'asics', 'puma', 'skechers', 'fila', 'gucci', 'bata', 'clymb', 'skyman', 'kavon', 'maddy', 'inkenzo', 'hush puppies', 'flavia']\n",
    "adjs = ['tennis', 'classy', 'run', 'comf', 'casual', 'workout', 'gym', 'trandy', 'modern']\n",
    "types = ['slippers', 'sneakers', 'heel', 'sandal']"
   ]
  },
  {
   "cell_type": "markdown",
   "metadata": {},
   "source": [
    "Посмотрим сначала на бренды. Понадеюсь на стеммер от nltk и не буду стеммить названия брендов."
   ]
  },
  {
   "cell_type": "code",
   "execution_count": 52,
   "metadata": {},
   "outputs": [],
   "source": [
    "def choose_brand(s):\n",
    "    ans = 0\n",
    "    for b in brands:\n",
    "        if b in s.lower():\n",
    "            ans = b\n",
    "    if not ans:\n",
    "        ans = 'none'\n",
    "    return ans"
   ]
  },
  {
   "cell_type": "code",
   "execution_count": 53,
   "metadata": {},
   "outputs": [],
   "source": [
    "df['brand'] = df['product_description'].apply(choose_brand)"
   ]
  },
  {
   "cell_type": "code",
   "execution_count": 54,
   "metadata": {},
   "outputs": [
    {
     "data": {
      "text/html": [
       "<div>\n",
       "<style scoped>\n",
       "    .dataframe tbody tr th:only-of-type {\n",
       "        vertical-align: middle;\n",
       "    }\n",
       "\n",
       "    .dataframe tbody tr th {\n",
       "        vertical-align: top;\n",
       "    }\n",
       "\n",
       "    .dataframe thead th {\n",
       "        text-align: right;\n",
       "    }\n",
       "</style>\n",
       "<table border=\"1\" class=\"dataframe\">\n",
       "  <thead>\n",
       "    <tr style=\"text-align: right;\">\n",
       "      <th></th>\n",
       "      <th>price</th>\n",
       "      <th>product_description</th>\n",
       "      <th>len_description</th>\n",
       "      <th>clean_description</th>\n",
       "      <th>len_clean_description</th>\n",
       "      <th>brand</th>\n",
       "    </tr>\n",
       "  </thead>\n",
       "  <tbody>\n",
       "    <tr>\n",
       "      <th>0</th>\n",
       "      <td>279.0</td>\n",
       "      <td>Elevate your style with this classy pair of Ru...</td>\n",
       "      <td>222</td>\n",
       "      <td>elev style classi pair run shoe hous clymb bra...</td>\n",
       "      <td>140</td>\n",
       "      <td>clymb</td>\n",
       "    </tr>\n",
       "    <tr>\n",
       "      <th>1</th>\n",
       "      <td>479.0</td>\n",
       "      <td>The product will be an excellent pick for you....</td>\n",
       "      <td>78</td>\n",
       "      <td>product excel pick ensur easi mainten</td>\n",
       "      <td>37</td>\n",
       "      <td>none</td>\n",
       "    </tr>\n",
       "    <tr>\n",
       "      <th>2</th>\n",
       "      <td>430.0</td>\n",
       "      <td>Flaunt with these stylish and unique red casua...</td>\n",
       "      <td>398</td>\n",
       "      <td>flaunt stylish uniqu red casual shoe per lates...</td>\n",
       "      <td>242</td>\n",
       "      <td>none</td>\n",
       "    </tr>\n",
       "    <tr>\n",
       "      <th>3</th>\n",
       "      <td>499.0</td>\n",
       "      <td>Robbie Jones Shoes Are Designed To Keeping In ...</td>\n",
       "      <td>576</td>\n",
       "      <td>robbi jone shoe design keep mind durabl well t...</td>\n",
       "      <td>337</td>\n",
       "      <td>none</td>\n",
       "    </tr>\n",
       "    <tr>\n",
       "      <th>4</th>\n",
       "      <td>499.0</td>\n",
       "      <td>Sparx is a spectacular range of footwear from ...</td>\n",
       "      <td>1030</td>\n",
       "      <td>sparx spectacular rang footwear hous relaxo fo...</td>\n",
       "      <td>672</td>\n",
       "      <td>none</td>\n",
       "    </tr>\n",
       "  </tbody>\n",
       "</table>\n",
       "</div>"
      ],
      "text/plain": [
       "   price                                product_description  len_description  \\\n",
       "0  279.0  Elevate your style with this classy pair of Ru...              222   \n",
       "1  479.0  The product will be an excellent pick for you....               78   \n",
       "2  430.0  Flaunt with these stylish and unique red casua...              398   \n",
       "3  499.0  Robbie Jones Shoes Are Designed To Keeping In ...              576   \n",
       "4  499.0  Sparx is a spectacular range of footwear from ...             1030   \n",
       "\n",
       "                                   clean_description  len_clean_description  \\\n",
       "0  elev style classi pair run shoe hous clymb bra...                    140   \n",
       "1              product excel pick ensur easi mainten                     37   \n",
       "2  flaunt stylish uniqu red casual shoe per lates...                    242   \n",
       "3  robbi jone shoe design keep mind durabl well t...                    337   \n",
       "4  sparx spectacular rang footwear hous relaxo fo...                    672   \n",
       "\n",
       "   brand  \n",
       "0  clymb  \n",
       "1   none  \n",
       "2   none  \n",
       "3   none  \n",
       "4   none  "
      ]
     },
     "execution_count": 54,
     "metadata": {},
     "output_type": "execute_result"
    }
   ],
   "source": [
    "df.head()"
   ]
  },
  {
   "cell_type": "code",
   "execution_count": 55,
   "metadata": {},
   "outputs": [
    {
     "data": {
      "image/png": "[encoded data removed]",
      "text/plain": [
       "<Figure size 432x288 with 1 Axes>"
      ]
     },
     "metadata": {
      "needs_background": "light"
     },
     "output_type": "display_data"
    }
   ],
   "source": [
    "fig = plt.figure()\n",
    "ax = fig.add_subplot(1, 1, 1)\n",
    "sns.boxplot(x='brand', y='price', data=df, showfliers=False, ax=ax)\n",
    "sns.stripplot(x='brand', y='price', data=df, jitter=True, color='black', ax=ax)\n",
    "ax.set_xticklabels(ax.get_xticklabels(),rotation=90)\n",
    "\n",
    "plt.show()"
   ]
  },
  {
   "cell_type": "markdown",
   "metadata": {},
   "source": [
    "Очевидно, есть бренды, обувь которых находится в определённом ценовом диапазоне (например, вся обувь от *clymb*, *maddy* и *flavia* дешёвая), а от *asics* и *adidas* подороже. Однако критерий наличия бренла не универсальный (например, для *puma* это не работает)."
   ]
  },
  {
   "cell_type": "markdown",
   "metadata": {},
   "source": [
    "Ещё один вариант - проверить наличие определённых прилагательных (описывающих стиль обуви) и типа обуви."
   ]
  },
  {
   "cell_type": "markdown",
   "metadata": {},
   "source": [
    "Но здесь мои прилагательные нужно постемить"
   ]
  },
  {
   "cell_type": "code",
   "execution_count": 56,
   "metadata": {},
   "outputs": [],
   "source": [
    "def stems(words):\n",
    "    stems = [stemmer.stem(w) for w in words]\n",
    "    return stems"
   ]
  },
  {
   "cell_type": "code",
   "execution_count": 57,
   "metadata": {},
   "outputs": [],
   "source": [
    "adjs = stems(adjs)"
   ]
  },
  {
   "cell_type": "code",
   "execution_count": 58,
   "metadata": {},
   "outputs": [],
   "source": [
    "def choose_adj(s):\n",
    "    ans = 0\n",
    "    for a in adjs:\n",
    "        if a in s.lower():\n",
    "            ans = a\n",
    "    if not ans:\n",
    "        ans = 'none'\n",
    "    return ans"
   ]
  },
  {
   "cell_type": "code",
   "execution_count": 68,
   "metadata": {},
   "outputs": [],
   "source": [
    "df['adj'] = df['clean_description'].apply(choose_adj)"
   ]
  },
  {
   "cell_type": "code",
   "execution_count": 69,
   "metadata": {},
   "outputs": [
    {
     "data": {
      "image/png": "[encoded data removed]",
      "text/plain": [
       "<Figure size 432x288 with 1 Axes>"
      ]
     },
     "metadata": {
      "needs_background": "light"
     },
     "output_type": "display_data"
    }
   ],
   "source": [
    "fig = plt.figure()\n",
    "ax = fig.add_subplot(1, 1, 1)\n",
    "sns.boxplot(x='adj', y='price', data=df, showfliers=False, ax=ax)\n",
    "sns.stripplot(x='adj', y='price', data=df, jitter=True, color='black', ax=ax)\n",
    "ax.set_xticklabels(ax.get_xticklabels(),rotation=90)\n",
    "\n",
    "plt.show()"
   ]
  },
  {
   "cell_type": "markdown",
   "metadata": {},
   "source": [
    "Обувь для тенниса подороже, а для тренировок и трендовая (хотя тут дело в слове *trandy*, наверное) - подешевле, но по поводу остального - большой разброс."
   ]
  },
  {
   "cell_type": "markdown",
   "metadata": {},
   "source": [
    "Ну и теперь посомтрим на типы обуви, которые тоже надо постеммить."
   ]
  },
  {
   "cell_type": "code",
   "execution_count": 61,
   "metadata": {},
   "outputs": [],
   "source": [
    "types = stems(types)"
   ]
  },
  {
   "cell_type": "code",
   "execution_count": 62,
   "metadata": {},
   "outputs": [],
   "source": [
    "def choose_type(s):\n",
    "    ans = 0\n",
    "    for t in types:\n",
    "        if t in s.lower():\n",
    "            ans = t\n",
    "    if not ans:\n",
    "        ans = 'none'\n",
    "    return ans"
   ]
  },
  {
   "cell_type": "code",
   "execution_count": 70,
   "metadata": {},
   "outputs": [],
   "source": [
    "df['type'] = df['clean_description'].apply(choose_type)"
   ]
  },
  {
   "cell_type": "code",
   "execution_count": 71,
   "metadata": {},
   "outputs": [
    {
     "data": {
      "image/png": "[encoded data removed]",
      "text/plain": [
       "<Figure size 432x288 with 1 Axes>"
      ]
     },
     "metadata": {
      "needs_background": "light"
     },
     "output_type": "display_data"
    }
   ],
   "source": [
    "fig = plt.figure()\n",
    "ax = fig.add_subplot(1, 1, 1)\n",
    "sns.boxplot(x='type', y='price', data=df, showfliers=False, ax=ax)\n",
    "sns.stripplot(x='type', y='price', data=df, jitter=True, color='black', ax=ax)\n",
    "ax.set_xticklabels(ax.get_xticklabels(),rotation=90)\n",
    "\n",
    "plt.show()"
   ]
  },
  {
   "cell_type": "markdown",
   "metadata": {},
   "source": [
    "Слиперы, сандалии и кроссовки в среднем подешевле, чем каблуки, но наличие типа обучи всё равно назвать критерием вряд ли можно."
   ]
  },
  {
   "cell_type": "markdown",
   "metadata": {},
   "source": [
    "Ещё можно такую же с материалами, но я не знаю, как они на английском все называются :("
   ]
  },
  {
   "cell_type": "markdown",
   "metadata": {},
   "source": [
    "## Векторизация"
   ]
  },
  {
   "cell_type": "markdown",
   "metadata": {},
   "source": [
    "#### TF-IDF"
   ]
  },
  {
   "cell_type": "code",
   "execution_count": 73,
   "metadata": {},
   "outputs": [],
   "source": [
    "corpus = df['clean_description']\n",
    "tfidf = TfidfVectorizer()\n",
    "X_tfidf = tfidf.fit_transform(corpus)\n",
    "y = df['price'].values\n",
    "X_train, X_test, y_train, y_test = train_test_split(X_tfidf, y, random_state=42)"
   ]
  },
  {
   "cell_type": "markdown",
   "metadata": {},
   "source": [
    "#### Bag of Words"
   ]
  },
  {
   "cell_type": "code",
   "execution_count": 79,
   "metadata": {},
   "outputs": [],
   "source": [
    "bow = CountVectorizer()\n",
    "X_bow = bow.fit_transform(corpus)\n",
    "y = df['price'].values\n",
    "X2_train, X2_test, y2_train, y2_test = train_test_split(X_bow, y, random_state=42)"
   ]
  },
  {
   "cell_type": "markdown",
   "metadata": {},
   "source": [
    "## Регрессия"
   ]
  },
  {
   "cell_type": "markdown",
   "metadata": {},
   "source": [
    "### Линейная регрессия на TF-IDF, подбор параметров"
   ]
  },
  {
   "cell_type": "code",
   "execution_count": 78,
   "metadata": {},
   "outputs": [
    {
     "name": "stderr",
     "output_type": "stream",
     "text": [
      "C:\\Users\\user\\Anaconda3\\lib\\site-packages\\sklearn\\model_selection\\_split.py:1978: FutureWarning: The default value of cv will change from 3 to 5 in version 0.22. Specify it explicitly to silence this warning.\n",
      "  warnings.warn(CV_WARNING, FutureWarning)\n",
      "C:\\Users\\user\\Anaconda3\\lib\\site-packages\\sklearn\\model_selection\\_search.py:813: DeprecationWarning: The default of the `iid` parameter will change from True to False in version 0.22 and will be removed in 0.24. This will change numeric results when test-set sizes are unequal.\n",
      "  DeprecationWarning)\n"
     ]
    },
    {
     "name": "stdout",
     "output_type": "stream",
     "text": [
      "Best score: -919.3076542132072\n",
      "Best parameters: {'fit_intercept': False, 'normalize': True}\n"
     ]
    }
   ],
   "source": [
    "lg = LinearRegression()\n",
    "lg_params = {'fit_intercept': [True, False],\n",
    "                 'normalize': [True, False]\n",
    "                 }\n",
    "grid_search_1 = GridSearchCV(lg,\n",
    "                           param_grid=lg_params,\n",
    "                           scoring='neg_mean_absolute_error',\n",
    "                           n_jobs=-1)\n",
    "grid_search_1.fit(X_train, y_train)\n",
    "\n",
    "print('Best score: {}'.format(grid_search_1.best_score_))\n",
    "print('Best parameters: {}'.format(grid_search_1.best_params_))"
   ]
  },
  {
   "cell_type": "markdown",
   "metadata": {},
   "source": [
    "### Линейная регрессия на BoW, подбор параметров"
   ]
  },
  {
   "cell_type": "code",
   "execution_count": 80,
   "metadata": {},
   "outputs": [
    {
     "name": "stderr",
     "output_type": "stream",
     "text": [
      "C:\\Users\\user\\Anaconda3\\lib\\site-packages\\sklearn\\model_selection\\_split.py:1978: FutureWarning: The default value of cv will change from 3 to 5 in version 0.22. Specify it explicitly to silence this warning.\n",
      "  warnings.warn(CV_WARNING, FutureWarning)\n",
      "C:\\Users\\user\\Anaconda3\\lib\\site-packages\\sklearn\\model_selection\\_search.py:813: DeprecationWarning: The default of the `iid` parameter will change from True to False in version 0.22 and will be removed in 0.24. This will change numeric results when test-set sizes are unequal.\n",
      "  DeprecationWarning)\n"
     ]
    },
    {
     "name": "stdout",
     "output_type": "stream",
     "text": [
      "Best score: -1357.7705180861906\n",
      "Best parameters: {'fit_intercept': False, 'normalize': True}\n"
     ]
    }
   ],
   "source": [
    "grid_search_2 = GridSearchCV(lg,\n",
    "                           param_grid=lg_params,\n",
    "                           scoring='neg_mean_absolute_error',\n",
    "                           n_jobs=-1)\n",
    "\n",
    "grid_search_2.fit(X2_train, y2_train)\n",
    "\n",
    "print('Best score: {}'.format(grid_search_2.best_score_))\n",
    "print('Best parameters: {}'.format(grid_search_2.best_params_))"
   ]
  },
  {
   "cell_type": "markdown",
   "metadata": {},
   "source": [
    "### Ridge на TF-IDF, подбор параметров "
   ]
  },
  {
   "cell_type": "code",
   "execution_count": 105,
   "metadata": {},
   "outputs": [
    {
     "name": "stdout",
     "output_type": "stream",
     "text": [
      "Best score: -631.7316703442759\n",
      "Best parameters: {'alpha': 0.05}\n"
     ]
    }
   ],
   "source": [
    "ridge = Ridge()\n",
    "ridge_params = {'alpha': [0.05, 0.1, 0.15, 0.5, 1, 2, 10]}\n",
    "grid_search_3 = GridSearchCV(ridge,\n",
    "                           param_grid=ridge_params,\n",
    "                           scoring='neg_mean_absolute_error',\n",
    "                           n_jobs=-1,\n",
    "                           cv=5)\n",
    "\n",
    "grid_search_3.fit(X_train, y_train)\n",
    "\n",
    "print('Best score: {}'.format(grid_search_3.best_score_))\n",
    "print('Best parameters: {}'.format(grid_search_3.best_params_))"
   ]
  },
  {
   "cell_type": "markdown",
   "metadata": {},
   "source": [
    "### Ridge на BoW, подбор параметров"
   ]
  },
  {
   "cell_type": "code",
   "execution_count": 106,
   "metadata": {},
   "outputs": [
    {
     "name": "stdout",
     "output_type": "stream",
     "text": [
      "Best score: -716.2385498755879\n",
      "Best parameters: {'alpha': 1}\n"
     ]
    }
   ],
   "source": [
    "grid_search_4 = GridSearchCV(ridge,\n",
    "                           param_grid=ridge_params,\n",
    "                           scoring='neg_mean_absolute_error',\n",
    "                           n_jobs=-1,\n",
    "                           cv=5)\n",
    "\n",
    "grid_search_4.fit(X2_train, y2_train)\n",
    "\n",
    "print('Best score: {}'.format(grid_search_4.best_score_))\n",
    "print('Best parameters: {}'.format(grid_search_4.best_params_))"
   ]
  },
  {
   "cell_type": "markdown",
   "metadata": {},
   "source": [
    "## Результаты"
   ]
  },
  {
   "cell_type": "markdown",
   "metadata": {},
   "source": [
    "Лучше всего работает Ridge на TF-IDF с маленьким alpha. Посмотрим, что работает плохо, а что хорошо."
   ]
  },
  {
   "cell_type": "code",
   "execution_count": 109,
   "metadata": {},
   "outputs": [
    {
     "data": {
      "text/plain": [
       "619.9294037599369"
      ]
     },
     "execution_count": 109,
     "metadata": {},
     "output_type": "execute_result"
    }
   ],
   "source": [
    "preds = grid_search_3.predict(X_test)\n",
    "mean_absolute_error(y_test, preds)"
   ]
  },
  {
   "cell_type": "markdown",
   "metadata": {},
   "source": [
    "Посмотрим на график остатков"
   ]
  },
  {
   "cell_type": "code",
   "execution_count": 114,
   "metadata": {},
   "outputs": [],
   "source": [
    "y_train_pred = grid_search_3.predict(X_train)"
   ]
  },
  {
   "cell_type": "code",
   "execution_count": 119,
   "metadata": {},
   "outputs": [
    {
     "data": {
      "image/png": "[encoded data removed]",
      "text/plain": [
       "<Figure size 432x288 with 1 Axes>"
      ]
     },
     "metadata": {
      "needs_background": "light"
     },
     "output_type": "display_data"
    }
   ],
   "source": [
    "plt.scatter(y_train_pred,  y_train_pred - y_train,\n",
    "            c='blue', marker='o', label='Training data')\n",
    "plt.scatter(preds,  preds - y_test,\n",
    "            c='lightgreen', marker='s', label='Test data')\n",
    "plt.xlabel('Predicted values')\n",
    "plt.ylabel('Residuals')\n",
    "plt.legend(loc='upper left')\n",
    "plt.hlines(y=0, xmin = -100, xmax = 8000, lw=2, color='red')\n",
    "plt.tight_layout()"
   ]
  },
  {
   "cell_type": "markdown",
   "metadata": {},
   "source": [
    "В целом, всё достаточно близко к 0, особо заметных паттернов нет (кроме небольшой клиновидности от 0 до 4000 по оси X). Минусы: есть выбросы, наблюдается гетероскедастичность на тестовой выборке."
   ]
  },
  {
   "cell_type": "markdown",
   "metadata": {},
   "source": [
    "Можно ещё посмотреть на разницу между предсказанными ценами и реальными"
   ]
  },
  {
   "cell_type": "code",
   "execution_count": 137,
   "metadata": {},
   "outputs": [
    {
     "data": {
      "image/png": "[encoded data removed]",
      "text/plain": [
       "<Figure size 360x360 with 1 Axes>"
      ]
     },
     "metadata": {
      "needs_background": "light"
     },
     "output_type": "display_data"
    }
   ],
   "source": [
    "plt.figure(figsize=(5, 5))\n",
    "resids = [preds[i] - y_test[i] for i in range(len(preds))]\n",
    "#for i in range(len(preds)):\n",
    "    #resids = preds[i] - y_test[i]\n",
    "ax = plt.hist(x=resids, bins=20)"
   ]
  },
  {
   "cell_type": "markdown",
   "metadata": {},
   "source": [
    "Ну, по-моему выглядит неплохо: значений около 0 достаточно много. Тех предсказаний, которые назвали бОльшую цену, чем есть на самом деле (предсказанное - реальное > 0), больше, чем тех, которые предсказали меньшую цену. То есть, модель хорошо справляется с ценами поменьше. Может, это потому что маленький цен в принципе больше? "
   ]
  },
  {
   "cell_type": "code",
   "execution_count": 138,
   "metadata": {},
   "outputs": [
    {
     "data": {
      "image/png": "[encoded data removed]",
      "text/plain": [
       "<Figure size 432x288 with 1 Axes>"
      ]
     },
     "metadata": {
      "needs_background": "light"
     },
     "output_type": "display_data"
    }
   ],
   "source": [
    "ax = plt.hist(x=df['price'], bins=20)"
   ]
  },
  {
   "cell_type": "markdown",
   "metadata": {},
   "source": [
    "В целом, так и есть. То есть, модель, видимо, работает так: предскажи что-нибудь от 100 до 1500 и в большинстве случаев попадёшь."
   ]
  },
  {
   "cell_type": "markdown",
   "metadata": {},
   "source": [
    "## Задание 2"
   ]
  },
  {
   "cell_type": "markdown",
   "metadata": {},
   "source": [
    "Взяла преобразование данных с kaggle"
   ]
  },
  {
   "cell_type": "markdown",
   "metadata": {},
   "source": [
    "Загружаем датафрейм заново, а то я его в прошлой задаче меняла"
   ]
  },
  {
   "cell_type": "code",
   "execution_count": 140,
   "metadata": {},
   "outputs": [],
   "source": [
    "df = pd.read_csv('Shoes_Data.csv')"
   ]
  },
  {
   "cell_type": "markdown",
   "metadata": {},
   "source": [
    "### Препроцессинг"
   ]
  },
  {
   "cell_type": "markdown",
   "metadata": {},
   "source": [
    "Переходим в формат 1 отзыв к 1 оценке"
   ]
  },
  {
   "cell_type": "code",
   "execution_count": 141,
   "metadata": {},
   "outputs": [],
   "source": [
    "rew  = []\n",
    "rat = []\n",
    "\n",
    "for j in df.index:\n",
    "    lst = [i for i in df.iloc[j].reviews.split('||')]\n",
    "    for k in lst:\n",
    "        rew.append(k)\n",
    "        \n",
    "for j in df.index:\n",
    "    lst = [i for i in df.iloc[j].reviews_rating.split('||')]\n",
    "    for k in lst:\n",
    "        rat.append(k)\n",
    "        \n",
    "df = pd.DataFrame(list(zip(rew, rat)),\n",
    "               columns =['Review', 'Review_rating'])"
   ]
  },
  {
   "cell_type": "markdown",
   "metadata": {},
   "source": [
    "Убираем мусор"
   ]
  },
  {
   "cell_type": "code",
   "execution_count": 146,
   "metadata": {},
   "outputs": [],
   "source": [
    "def lower(text):\n",
    "    return text.lower()\n",
    "\n",
    "def remove_punctuation(text):\n",
    "    return text.translate(str.maketrans('','', punctuation))\n",
    "\n",
    "def remove_stopwords(text):\n",
    "    return \" \".join([word for word in str(text).split() if word not in stop])\n",
    "\n",
    "# Removing all words with digits and standalone digits\n",
    "def remove_digits(text):\n",
    "    return re.sub(r'\\d+', '', text)\n",
    "\n",
    "def remove_emoji(text):\n",
    "    emoji_pattern = re.compile(\"[\"\n",
    "                           u\"\\U0001F600-\\U0001F64F\"  # emoticons\n",
    "                           u\"\\U0001F300-\\U0001F5FF\"  # symbols & pictographs\n",
    "                           u\"\\U0001F680-\\U0001F6FF\"  # transport & map symbols\n",
    "                           u\"\\U0001F1E0-\\U0001F1FF\"  # flags (iOS)\n",
    "                           u\"\\U00002702-\\U000027B0\"\n",
    "                           u\"\\U000024C2-\\U0001F251\"\n",
    "                           \"]+\", flags=re.UNICODE)\n",
    "    return emoji_pattern.sub(r'', text)\n",
    "\n",
    "# Removing all non-printable symbols like \"ड\", \"ட\"\n",
    "def remove_non_printable(text):\n",
    "    text = text.encode(\"ascii\", \"ignore\")\n",
    "    return text.decode()\n",
    "        \n",
    "# One function to clean it all\n",
    "def clean_text(text):\n",
    "    text = lower(text)\n",
    "    text = remove_punctuation(text)\n",
    "    #text = remove_stopwords(text)\n",
    "    text = remove_digits(text)\n",
    "    text = remove_emoji(text)\n",
    "    text = remove_non_printable(text)\n",
    "    return text\n",
    "\n",
    "# Returns first digit entry in a string\n",
    "def get_first_digit(text):\n",
    "    match = re.search(r'\\d', text)\n",
    "    return match[0]"
   ]
  },
  {
   "cell_type": "code",
   "execution_count": 147,
   "metadata": {},
   "outputs": [
    {
     "data": {
      "text/html": [
       "<div>\n",
       "<style scoped>\n",
       "    .dataframe tbody tr th:only-of-type {\n",
       "        vertical-align: middle;\n",
       "    }\n",
       "\n",
       "    .dataframe tbody tr th {\n",
       "        vertical-align: top;\n",
       "    }\n",
       "\n",
       "    .dataframe thead th {\n",
       "        text-align: right;\n",
       "    }\n",
       "</style>\n",
       "<table border=\"1\" class=\"dataframe\">\n",
       "  <thead>\n",
       "    <tr style=\"text-align: right;\">\n",
       "      <th></th>\n",
       "      <th>Review</th>\n",
       "      <th>Review_rating</th>\n",
       "      <th>clean_review</th>\n",
       "    </tr>\n",
       "  </thead>\n",
       "  <tbody>\n",
       "    <tr>\n",
       "      <th>0</th>\n",
       "      <td>Not happy with product</td>\n",
       "      <td>1</td>\n",
       "      <td>not happy with product</td>\n",
       "    </tr>\n",
       "    <tr>\n",
       "      <th>1</th>\n",
       "      <td>It's not as expected.</td>\n",
       "      <td>1</td>\n",
       "      <td>its not as expected</td>\n",
       "    </tr>\n",
       "    <tr>\n",
       "      <th>2</th>\n",
       "      <td>AVERAGE PRODUCT</td>\n",
       "      <td>3</td>\n",
       "      <td>average product</td>\n",
       "    </tr>\n",
       "    <tr>\n",
       "      <th>3</th>\n",
       "      <td>Pic more beautiful</td>\n",
       "      <td>3</td>\n",
       "      <td>pic more beautiful</td>\n",
       "    </tr>\n",
       "    <tr>\n",
       "      <th>4</th>\n",
       "      <td>Got damage product. But quality is average fo...</td>\n",
       "      <td>3</td>\n",
       "      <td>got damage product but quality is average for</td>\n",
       "    </tr>\n",
       "  </tbody>\n",
       "</table>\n",
       "</div>"
      ],
      "text/plain": [
       "                                              Review Review_rating  \\\n",
       "0                             Not happy with product             1   \n",
       "1                              It's not as expected.             1   \n",
       "2                                    AVERAGE PRODUCT             3   \n",
       "3                                 Pic more beautiful             3   \n",
       "4   Got damage product. But quality is average fo...             3   \n",
       "\n",
       "                                      clean_review  \n",
       "0                           not happy with product  \n",
       "1                              its not as expected  \n",
       "2                                  average product  \n",
       "3                               pic more beautiful  \n",
       "4   got damage product but quality is average for   "
      ]
     },
     "execution_count": 147,
     "metadata": {},
     "output_type": "execute_result"
    }
   ],
   "source": [
    "df['Review_rating']=df['Review_rating'].apply(get_first_digit)\n",
    "df['clean_review']=df['Review'].apply(clean_text)\n",
    "df.head()"
   ]
  },
  {
   "cell_type": "markdown",
   "metadata": {},
   "source": [
    "Смотрим на длины отзывов"
   ]
  },
  {
   "cell_type": "code",
   "execution_count": 151,
   "metadata": {},
   "outputs": [
    {
     "data": {
      "image/png": "[encoded data removed]",
      "text/plain": [
       "<Figure size 432x288 with 1 Axes>"
      ]
     },
     "metadata": {
      "needs_background": "light"
     },
     "output_type": "display_data"
    }
   ],
   "source": [
    "df['review_lens'] = df['clean_review'].apply(len)\n",
    "ax = plt.hist(x=df['review_lens'], bins=10)"
   ]
  },
  {
   "cell_type": "markdown",
   "metadata": {},
   "source": [
    "Смотрим на стоп-слова"
   ]
  },
  {
   "cell_type": "code",
   "execution_count": 152,
   "metadata": {
    "collapsed": true
   },
   "outputs": [
    {
     "data": {
      "text/plain": [
       "{'a',\n",
       " 'about',\n",
       " 'above',\n",
       " 'after',\n",
       " 'again',\n",
       " 'against',\n",
       " 'ain',\n",
       " 'all',\n",
       " 'am',\n",
       " 'an',\n",
       " 'and',\n",
       " 'any',\n",
       " 'are',\n",
       " 'aren',\n",
       " \"aren't\",\n",
       " 'as',\n",
       " 'at',\n",
       " 'be',\n",
       " 'because',\n",
       " 'been',\n",
       " 'before',\n",
       " 'being',\n",
       " 'below',\n",
       " 'between',\n",
       " 'both',\n",
       " 'but',\n",
       " 'by',\n",
       " 'can',\n",
       " 'couldn',\n",
       " \"couldn't\",\n",
       " 'd',\n",
       " 'did',\n",
       " 'didn',\n",
       " \"didn't\",\n",
       " 'do',\n",
       " 'does',\n",
       " 'doesn',\n",
       " \"doesn't\",\n",
       " 'doing',\n",
       " 'don',\n",
       " \"don't\",\n",
       " 'down',\n",
       " 'during',\n",
       " 'each',\n",
       " 'few',\n",
       " 'for',\n",
       " 'from',\n",
       " 'further',\n",
       " 'had',\n",
       " 'hadn',\n",
       " \"hadn't\",\n",
       " 'has',\n",
       " 'hasn',\n",
       " \"hasn't\",\n",
       " 'have',\n",
       " 'haven',\n",
       " \"haven't\",\n",
       " 'having',\n",
       " 'he',\n",
       " 'her',\n",
       " 'here',\n",
       " 'hers',\n",
       " 'herself',\n",
       " 'him',\n",
       " 'himself',\n",
       " 'his',\n",
       " 'how',\n",
       " 'i',\n",
       " 'if',\n",
       " 'in',\n",
       " 'into',\n",
       " 'is',\n",
       " 'isn',\n",
       " \"isn't\",\n",
       " 'it',\n",
       " \"it's\",\n",
       " 'its',\n",
       " 'itself',\n",
       " 'just',\n",
       " 'll',\n",
       " 'm',\n",
       " 'ma',\n",
       " 'me',\n",
       " 'mightn',\n",
       " \"mightn't\",\n",
       " 'more',\n",
       " 'most',\n",
       " 'mustn',\n",
       " \"mustn't\",\n",
       " 'my',\n",
       " 'myself',\n",
       " 'needn',\n",
       " \"needn't\",\n",
       " 'no',\n",
       " 'nor',\n",
       " 'not',\n",
       " 'now',\n",
       " 'o',\n",
       " 'of',\n",
       " 'off',\n",
       " 'on',\n",
       " 'once',\n",
       " 'only',\n",
       " 'or',\n",
       " 'other',\n",
       " 'our',\n",
       " 'ours',\n",
       " 'ourselves',\n",
       " 'out',\n",
       " 'over',\n",
       " 'own',\n",
       " 're',\n",
       " 's',\n",
       " 'same',\n",
       " 'shan',\n",
       " \"shan't\",\n",
       " 'she',\n",
       " \"she's\",\n",
       " 'should',\n",
       " \"should've\",\n",
       " 'shouldn',\n",
       " \"shouldn't\",\n",
       " 'so',\n",
       " 'some',\n",
       " 'such',\n",
       " 't',\n",
       " 'than',\n",
       " 'that',\n",
       " \"that'll\",\n",
       " 'the',\n",
       " 'their',\n",
       " 'theirs',\n",
       " 'them',\n",
       " 'themselves',\n",
       " 'then',\n",
       " 'there',\n",
       " 'these',\n",
       " 'they',\n",
       " 'this',\n",
       " 'those',\n",
       " 'through',\n",
       " 'to',\n",
       " 'too',\n",
       " 'under',\n",
       " 'until',\n",
       " 'up',\n",
       " 've',\n",
       " 'very',\n",
       " 'was',\n",
       " 'wasn',\n",
       " \"wasn't\",\n",
       " 'we',\n",
       " 'were',\n",
       " 'weren',\n",
       " \"weren't\",\n",
       " 'what',\n",
       " 'when',\n",
       " 'where',\n",
       " 'which',\n",
       " 'while',\n",
       " 'who',\n",
       " 'whom',\n",
       " 'why',\n",
       " 'will',\n",
       " 'with',\n",
       " 'won',\n",
       " \"won't\",\n",
       " 'wouldn',\n",
       " \"wouldn't\",\n",
       " 'y',\n",
       " 'you',\n",
       " \"you'd\",\n",
       " \"you'll\",\n",
       " \"you're\",\n",
       " \"you've\",\n",
       " 'your',\n",
       " 'yours',\n",
       " 'yourself',\n",
       " 'yourselves'}"
      ]
     },
     "execution_count": 152,
     "metadata": {},
     "output_type": "execute_result"
    }
   ],
   "source": [
    "stopwords"
   ]
  },
  {
   "cell_type": "markdown",
   "metadata": {},
   "source": [
    "Не думаю, что стоит убирать стоп-слова, потому что отзывы в основном очень короткие, в стоп-словах нет эмоционально окрашенных, значит, они нам не помешают. Посмотрим на то, как рейтинг зависит от длины отзыва."
   ]
  },
  {
   "cell_type": "code",
   "execution_count": 156,
   "metadata": {},
   "outputs": [
    {
     "data": {
      "image/png": "[encoded data removed]",
      "text/plain": [
       "<Figure size 432x288 with 1 Axes>"
      ]
     },
     "metadata": {
      "needs_background": "light"
     },
     "output_type": "display_data"
    }
   ],
   "source": [
    "fig = plt.figure()\n",
    "ax = fig.add_subplot(1, 1, 1)\n",
    "sns.boxplot(x='Review_rating', y='review_lens', data=df, showfliers=False, ax=ax)\n",
    "sns.stripplot(x='Review_rating', y='review_lens', data=df, jitter=True, color='black', ax=ax)\n",
    "plt.show()"
   ]
  },
  {
   "cell_type": "markdown",
   "metadata": {},
   "source": [
    "Ну, как-то не особо. Хотя, наверное, всё верно: чем больше человеку понравилась обувь, тем более вероятно, что он напишет короткий отзыв (типа *круто, всем советую*), ведь если товар не понравилоя, человек распишет недостатки и свой гнев."
   ]
  },
  {
   "cell_type": "markdown",
   "metadata": {},
   "source": [
    "### Векторизация"
   ]
  },
  {
   "cell_type": "code",
   "execution_count": 158,
   "metadata": {},
   "outputs": [],
   "source": [
    "corpus2 = df['clean_review']\n",
    "tfidf = TfidfVectorizer()\n",
    "X_tfidf = tfidf.fit_transform(corpus2)\n",
    "y = df['Review_rating'].values\n",
    "X_train, X_test, y_train, y_test = train_test_split(X_tfidf, y, random_state=42)\n",
    "bow = CountVectorizer()\n",
    "X_bow = bow.fit_transform(corpus2)\n",
    "y_bow = df['Review_rating'].values\n",
    "X_train_bow, X_test_bow, y_train_bow, y_test_bow = train_test_split(X_bow, y_bow, random_state=42)"
   ]
  },
  {
   "cell_type": "markdown",
   "metadata": {},
   "source": [
    "### Логистическая регрессия на TF-IDF + подбор параметров"
   ]
  },
  {
   "cell_type": "code",
   "execution_count": 159,
   "metadata": {},
   "outputs": [
    {
     "name": "stderr",
     "output_type": "stream",
     "text": [
      "C:\\Users\\user\\Anaconda3\\lib\\site-packages\\sklearn\\linear_model\\logistic.py:469: FutureWarning: Default multi_class will be changed to 'auto' in 0.22. Specify the multi_class option to silence this warning.\n",
      "  \"this warning.\", FutureWarning)\n"
     ]
    },
    {
     "name": "stdout",
     "output_type": "stream",
     "text": [
      "Best score: 0.6428762720942689\n",
      "Best parameters: {'C': 2.0, 'class_weight': None, 'fit_intercept': True, 'penalty': 'l2', 'random_state': 0, 'solver': 'saga'}\n"
     ]
    }
   ],
   "source": [
    "logreg = LogisticRegression(max_iter=400)\n",
    "logreg_params = {'C': [0.5, 1.0, 1.5, 2.0],\n",
    "                 'penalty' : ['l2', 'l1'],\n",
    "                 'solver' : ['liblinear', 'saga'],\n",
    "                 'fit_intercept': [True, False],\n",
    "                 'class_weight': ['balanced', None],\n",
    "                 'random_state': [0]}\n",
    "logreg_cv = GridSearchCV(logreg,\n",
    "                         param_grid=logreg_params,\n",
    "                         cv=5,\n",
    "                         n_jobs=-1)\n",
    "logreg_cv.fit(X_train, y_train)\n",
    "\n",
    "print('Best score: {}'.format(logreg_cv.best_score_))\n",
    "print('Best parameters: {}'.format(logreg_cv.best_params_))"
   ]
  },
  {
   "cell_type": "markdown",
   "metadata": {},
   "source": [
    "### Логиситческая регрессия на BoW + подбор параметров"
   ]
  },
  {
   "cell_type": "code",
   "execution_count": 161,
   "metadata": {},
   "outputs": [
    {
     "name": "stdout",
     "output_type": "stream",
     "text": [
      "Best score: 0.649437600428495\n",
      "Best parameters: {'C': 2.0, 'class_weight': None, 'fit_intercept': True, 'penalty': 'l2', 'random_state': 0, 'solver': 'liblinear'}\n"
     ]
    },
    {
     "name": "stderr",
     "output_type": "stream",
     "text": [
      "C:\\Users\\user\\Anaconda3\\lib\\site-packages\\sklearn\\linear_model\\logistic.py:469: FutureWarning: Default multi_class will be changed to 'auto' in 0.22. Specify the multi_class option to silence this warning.\n",
      "  \"this warning.\", FutureWarning)\n"
     ]
    }
   ],
   "source": [
    "logreg_cv2 = GridSearchCV(logreg,\n",
    "                         param_grid=logreg_params,\n",
    "                         cv=5,\n",
    "                         n_jobs=-1)\n",
    "logreg_cv2.fit(X_train_bow, y_train_bow)\n",
    "print('Best score: {}'.format(logreg_cv2.best_score_))\n",
    "print('Best parameters: {}'.format(logreg_cv2.best_params_))"
   ]
  },
  {
   "cell_type": "markdown",
   "metadata": {},
   "source": [
    "### Мультиномиальный наивный Байсовский классификатор на TF-IDF + подбор параметров"
   ]
  },
  {
   "cell_type": "code",
   "execution_count": 162,
   "metadata": {},
   "outputs": [
    {
     "name": "stdout",
     "output_type": "stream",
     "text": [
      "Best score: 0.634841992501339\n",
      "Best parameters: {'alpha': 0.5}\n"
     ]
    }
   ],
   "source": [
    "mnb = MultinomialNB()\n",
    "\n",
    "mnb_params = {'alpha': [0.1, 0.5, 1.0, 1.5]}\n",
    "\n",
    "mnb_cv = GridSearchCV(mnb,\n",
    "                      param_grid=mnb_params,\n",
    "                      cv=5,\n",
    "                      n_jobs=-1)\n",
    "mnb_cv.fit(X_train, y_train)\n",
    "\n",
    "print('Best score: {}'.format(mnb_cv.best_score_))\n",
    "print('Best parameters: {}'.format(mnb_cv.best_params_))"
   ]
  },
  {
   "cell_type": "markdown",
   "metadata": {},
   "source": [
    "### Мультиномиальный наивный Байсовский классификатор на BoW + подбор параметров"
   ]
  },
  {
   "cell_type": "code",
   "execution_count": 163,
   "metadata": {},
   "outputs": [
    {
     "name": "stdout",
     "output_type": "stream",
     "text": [
      "Best score: 0.6368505623995715\n",
      "Best parameters: {'alpha': 0.5}\n"
     ]
    }
   ],
   "source": [
    "mnb_cv2 = GridSearchCV(mnb,\n",
    "                      param_grid=mnb_params,\n",
    "                      cv=5,\n",
    "                      n_jobs=-1)\n",
    "mnb_cv2.fit(X_train_bow, y_train_bow)\n",
    "\n",
    "print('Best score: {}'.format(mnb_cv2.best_score_))\n",
    "print('Best parameters: {}'.format(mnb_cv2.best_params_))"
   ]
  },
  {
   "cell_type": "markdown",
   "metadata": {},
   "source": [
    "## Результаты"
   ]
  },
  {
   "cell_type": "markdown",
   "metadata": {},
   "source": [
    "Лучше всего работает Мультиномиальный наивный Байсовский классификатор на TF-IDF."
   ]
  },
  {
   "cell_type": "code",
   "execution_count": 170,
   "metadata": {},
   "outputs": [
    {
     "name": "stdout",
     "output_type": "stream",
     "text": [
      "acc=0.6558\n",
      "micro F1=0.6558, micro P=0.6558, micro R=0.6558\n",
      "macro F1=0.4115, macro P=0.4101, macro R=0.5808\n",
      "\n"
     ]
    }
   ],
   "source": [
    "preds_2 = mnb_cv.predict(X_test)\n",
    "acc = accuracy_score(preds_2, y_test)\n",
    "micro_f1 = f1_score(preds_2, y_test, average = 'micro')\n",
    "micro_p = precision_score(preds_2, y_test, average = 'micro')\n",
    "micro_r = recall_score(preds_2, y_test, average = 'micro')\n",
    "macro_f1 = f1_score(preds_2, y_test, average = 'macro')\n",
    "macro_p = precision_score(preds_2, y_test, average = 'macro')\n",
    "macro_r = recall_score(preds_2, y_test, average = 'macro')\n",
    "print('acc={0:1.4f}'.format(acc))\n",
    "print('micro F1={0:1.4f}, micro P={1:1.4f}, micro R={2:1.4f}'.format(micro_f1, micro_p, micro_r))\n",
    "print('macro F1={0:1.4f}, macro P={1:1.4f}, macro R={2:1.4f}\\n'.format(macro_f1, macro_p, macro_r))"
   ]
  },
  {
   "cell_type": "markdown",
   "metadata": {},
   "source": [
    "Матрица ошибок"
   ]
  },
  {
   "cell_type": "code",
   "execution_count": 187,
   "metadata": {},
   "outputs": [
    {
     "data": {
      "image/png": "[encoded data removed]",
      "text/plain": [
       "<Figure size 432x288 with 1 Axes>"
      ]
     },
     "metadata": {
      "needs_background": "light"
     },
     "output_type": "display_data"
    }
   ],
   "source": [
    "sns.heatmap(data=confusion_matrix(preds_2, y_test),\n",
    "            annot=True,\n",
    "            fmt=\"d\",\n",
    "            cbar=False,\n",
    "            xticklabels = sorted(set(preds_2)),\n",
    "            yticklabels = sorted(set(preds_2)))\n",
    "plt.show()"
   ]
  },
  {
   "cell_type": "markdown",
   "metadata": {},
   "source": [
    "Очень много правильно угаданных пятёрок, посмотрим какие оценки вообще есть в тестовой выборке."
   ]
  },
  {
   "cell_type": "code",
   "execution_count": 189,
   "metadata": {},
   "outputs": [],
   "source": [
    "ratings_test = Counter(y_test)"
   ]
  },
  {
   "cell_type": "code",
   "execution_count": 192,
   "metadata": {},
   "outputs": [
    {
     "data": {
      "image/png": "[encoded data removed]",
      "text/plain": [
       "<Figure size 432x288 with 1 Axes>"
      ]
     },
     "metadata": {},
     "output_type": "display_data"
    }
   ],
   "source": [
    "ratings = []\n",
    "count = []\n",
    "for k, v in ratings_test.items():\n",
    "    ratings.append(k)\n",
    "    count.append(v)\n",
    "plt.pie(count, labels = ratings, autopct='%.0f%%')\n",
    "plt.show()"
   ]
  },
  {
   "cell_type": "markdown",
   "metadata": {},
   "source": [
    "Ну, пятёрок действительно половина от всех оценок, поэтому такое число - норм. А сколько каких оценок по всем данным?"
   ]
  },
  {
   "cell_type": "code",
   "execution_count": 193,
   "metadata": {},
   "outputs": [
    {
     "data": {
      "image/png": "[encoded data removed]",
      "text/plain": [
       "<Figure size 432x288 with 1 Axes>"
      ]
     },
     "metadata": {},
     "output_type": "display_data"
    }
   ],
   "source": [
    "ratings_all = Counter(df['Review_rating'])\n",
    "ratings = []\n",
    "count = []\n",
    "for k, v in ratings_all.items():\n",
    "    ratings.append(k)\n",
    "    count.append(v)\n",
    "plt.pie(count, labels = ratings, autopct='%.0f%%')\n",
    "plt.show()"
   ]
  },
  {
   "cell_type": "markdown",
   "metadata": {},
   "source": [
    "Тут почти то же самое. Видимо, модель снова работает по принципу \"ставь оценку повыше, в половине случаев не ошибёшься\". Может быть, есть смысл выкинуть половину пятёрок из данных."
   ]
  },
  {
   "cell_type": "code",
   "execution_count": null,
   "metadata": {},
   "outputs": [],
   "source": []
  }
 ],
 "metadata": {
  "kernelspec": {
   "display_name": "Python 3",
   "language": "python",
   "name": "python3"
  },
  "language_info": {
   "codemirror_mode": {
    "name": "ipython",
    "version": 3
   },
   "file_extension": ".py",
   "mimetype": "text/x-python",
   "name": "python",
   "nbconvert_exporter": "python",
   "pygments_lexer": "ipython3",
   "version": "3.7.3"
  }
 },
 "nbformat": 4,
 "nbformat_minor": 2
}
